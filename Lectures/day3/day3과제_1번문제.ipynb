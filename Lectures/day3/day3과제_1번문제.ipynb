{
 "cells": [
  {
   "cell_type": "markdown",
   "metadata": {},
   "source": [
    "## 박태민"
   ]
  },
  {
   "cell_type": "code",
   "execution_count": 38,
   "metadata": {},
   "outputs": [
    {
     "name": "stdout",
     "output_type": "stream",
     "text": [
      "------------------------------\n",
      "a = 6\n",
      "b = 1\n",
      "c = 2\n",
      "d = 3\n",
      "e = 9\n",
      "f = 1\n",
      "g = 3\n",
      "h = 3\n",
      "i = 6\n",
      "j = 0\n",
      "k = 0\n",
      "l = 1\n",
      "m = 2\n",
      "n = 7\n",
      "o = 7\n",
      "p = 1\n",
      "q = 0\n",
      "r = 14\n",
      "s = 5\n",
      "t = 9\n",
      "u = 1\n",
      "v = 0\n",
      "w = 2\n",
      "x = 0\n",
      "y = 1\n",
      "z = 0\n"
     ]
    }
   ],
   "source": [
    "s ='n with -W error to treat them as errors. Warnings Filter can be used to ignore warnings from third-party code.'\n",
    "k=list(s)\n",
    "new = []\n",
    "count_a = 0; count_b = 0; count_c = 0; count_d = 0; count_e = 0; count_f = 0; count_g = 0; count_h = 0\n",
    "count_i = 0; count_j = 0; count_k = 0; count_l = 0; count_m = 0; count_n = 0; count_o = 0; count_p = 0\n",
    "count_q = 0; count_r = 0; count_s = 0; count_t = 0; count_u = 0; count_v = 0; count_w = 0; count_x = 0\n",
    "count_y = 0; count_z = 0;\n",
    "for i in k :\n",
    "    if i.islower() == True :\n",
    "        new.append(i)\n",
    "for j in new :\n",
    "    if j == 'a' :\n",
    "        count_a += 1\n",
    "    elif j == 'b' :\n",
    "        count_b += 1\n",
    "    elif j == 'c' :\n",
    "        count_c += 1\n",
    "    elif j == 'd' :\n",
    "        count_d += 1\n",
    "    elif j == 'e' :\n",
    "        count_e += 1\n",
    "    elif j == 'f' :\n",
    "        count_f += 1\n",
    "    elif j == 'g' :\n",
    "        count_g += 1\n",
    "    elif j == 'h' :\n",
    "        count_h += 1\n",
    "    elif j == 'i' :\n",
    "        count_i += 1\n",
    "    elif j == 'j' :\n",
    "        count_j += 1\n",
    "    elif j == 'k' :\n",
    "        count_k += 1\n",
    "    elif j == 'l' :\n",
    "        count_l += 1\n",
    "    elif j == 'm' :\n",
    "        count_m += 1\n",
    "    elif j == 'n' :\n",
    "        count_n += 1\n",
    "    elif j == 'o' :\n",
    "        count_o += 1\n",
    "    elif j == 'p' :\n",
    "        count_p += 1\n",
    "    elif j == 'q' :\n",
    "        count_q += 1\n",
    "    elif j == 'r' :\n",
    "        count_r += 1\n",
    "    elif j == 's' :\n",
    "        count_s += 1\n",
    "    elif j == 't' :\n",
    "        count_t += 1\n",
    "    elif j == 'u' :\n",
    "        count_u += 1\n",
    "    elif j == 'v' :\n",
    "        count_v += 1\n",
    "    elif j == 'w' :\n",
    "        count_w += 1\n",
    "    elif j == 'x' :\n",
    "        count_x += 1\n",
    "    elif j == 'y' :\n",
    "        count_y += 1\n",
    "    elif j == 'z' :\n",
    "        count_z += 1\n",
    "\n",
    "print('-'*30)\n",
    "print('a = %d' %count_a); print('b = %d' %count_b); print('c = %d' %count_c)\n",
    "print('d = %d' %count_d); print('e = %d' %count_e); print('f = %d' %count_f)\n",
    "print('g = %d' %count_g); print('h = %d' %count_h); print('i = %d' %count_i)\n",
    "print('j = %d' %count_j); print('k = %d' %count_k); print('l = %d' %count_l)\n",
    "print('m = %d' %count_m); print('n = %d' %count_n); print('o = %d' %count_o)\n",
    "print('p = %d' %count_p); print('q = %d' %count_q); print('r = %d' %count_r)\n",
    "print('s = %d' %count_s); print('t = %d' %count_t); print('u = %d' %count_u)\n",
    "print('v = %d' %count_v); print('w = %d' %count_w); print('x = %d' %count_x)\n",
    "print('y = %d' %count_y); print('z = %d' %count_z)\n",
    "        \n",
    "        \n"
   ]
  },
  {
   "cell_type": "markdown",
   "metadata": {},
   "source": [
    "## 박고동"
   ]
  },
  {
   "cell_type": "markdown",
   "metadata": {},
   "source": [
    "Ascii Code"
   ]
  },
  {
   "cell_type": "code",
   "execution_count": 16,
   "metadata": {
    "scrolled": true
   },
   "outputs": [
    {
     "name": "stdout",
     "output_type": "stream",
     "text": [
      "a는 77개\n",
      "b는 17개\n",
      "c는 41개\n",
      "d는 31개\n",
      "e는128개\n",
      "f는 17개\n",
      "g는 20개\n",
      "h는 42개\n",
      "i는 85개\n",
      "j는  1개\n",
      "k는  9개\n",
      "l는 49개\n",
      "m는 27개\n",
      "n는 87개\n",
      "o는111개\n",
      "p는 41개\n",
      "q는  0개\n",
      "r는 78개\n",
      "s는 59개\n",
      "t는105개\n",
      "u는 18개\n",
      "v는 15개\n",
      "w는 17개\n",
      "x는  3개\n",
      "y는 30개\n",
      "z는  1개\n"
     ]
    }
   ],
   "source": [
    "paragraph=\"\"\" You should check for DeprecationWarning in your code When Python 2.7 was still supported, a lot of functionality in Python 3 was kept for backward compatibility with Python 2.7. With the end of Python 2 support, these backward compatibility layers have been removed, or will be removed soon. Most of them emitted a DeprecationWarning warning for several years. For example, using collections.Mapping instead of collections.abc.Mapping emits a DeprecationWarning since Python 3.3, released in 2012.\n",
    "\n",
    "Test your application with the -W default command-line option to see DeprecationWarning and PendingDeprecationWarning, or even with -W error to treat them as errors. Warnings Filter can be used to ignore warnings from third-party code.\n",
    "\n",
    "Python 3.9 is the last version providing those Python 2 backward compatibility layers, to give more time to Python projects maintainers to organize the removal of the Python 2 support and add support for Python 3.9.\n",
    "\n",
    "Aliases to Abstract Base Classes in the collections module, like collections.Mapping alias to collections.abc.Mapping, are kept for one last release for backward compatibility. They will be removed from Python 3.10.\n",
    "\n",
    "More generally, try to run your tests in the Python Development Mode which helps to prepare your code to make it compatible with the next Python version.\n",
    "\n",
    "Note: a number of pre-existing deprecations were removed in this version of Python as well. Consult the Removed section. \"\"\"\n",
    "\n",
    "sentence=paragraph.split()\n",
    "aski_list=[]\n",
    "for i in sentence:\n",
    "    for j in i:\n",
    "        if ord(j)>=ord(\"a\") and ord(j)<=ord(\"z\"):\n",
    "            aski_list.append(ord(j))\n",
    "for i in range(ord(\"a\"),ord(\"z\")+1):\n",
    "    kaisu=aski_list.count(i)\n",
    "    print(\"{}는{:3d}개\".format(chr(i),kaisu))\n",
    "    \n",
    "    "
   ]
  },
  {
   "cell_type": "markdown",
   "metadata": {},
   "source": [
    "String"
   ]
  },
  {
   "cell_type": "code",
   "execution_count": 22,
   "metadata": {},
   "outputs": [
    {
     "name": "stdout",
     "output_type": "stream",
     "text": [
      "a는 77개\n",
      "b는 17개\n",
      "c는 41개\n",
      "d는 31개\n",
      "e는128개\n",
      "f는 17개\n",
      "g는 20개\n",
      "h는 42개\n",
      "i는 85개\n",
      "j는  1개\n",
      "k는  9개\n",
      "l는 49개\n",
      "m는 27개\n",
      "n는 87개\n",
      "o는111개\n",
      "p는 41개\n",
      "q는  0개\n",
      "r는 78개\n",
      "s는 59개\n",
      "t는105개\n",
      "u는 18개\n",
      "v는 15개\n",
      "w는 17개\n",
      "x는  3개\n",
      "y는 30개\n",
      "z는  1개\n"
     ]
    }
   ],
   "source": [
    "paragraph=\"\"\" You should check for DeprecationWarning in your code When Python 2.7 was still supported, a lot of functionality in Python 3 was kept for backward compatibility with Python 2.7. With the end of Python 2 support, these backward compatibility layers have been removed, or will be removed soon. Most of them emitted a DeprecationWarning warning for several years. For example, using collections.Mapping instead of collections.abc.Mapping emits a DeprecationWarning since Python 3.3, released in 2012.\n",
    "\n",
    "Test your application with the -W default command-line option to see DeprecationWarning and PendingDeprecationWarning, or even with -W error to treat them as errors. Warnings Filter can be used to ignore warnings from third-party code.\n",
    "\n",
    "Python 3.9 is the last version providing those Python 2 backward compatibility layers, to give more time to Python projects maintainers to organize the removal of the Python 2 support and add support for Python 3.9.\n",
    "\n",
    "Aliases to Abstract Base Classes in the collections module, like collections.Mapping alias to collections.abc.Mapping, are kept for one last release for backward compatibility. They will be removed from Python 3.10.\n",
    "\n",
    "More generally, try to run your tests in the Python Development Mode which helps to prepare your code to make it compatible with the next Python version.\n",
    "\n",
    "Note: a number of pre-existing deprecations were removed in this version of Python as well. Consult the Removed section. \"\"\"\n",
    "\n",
    "lower_case=[]\n",
    "for i in paragraph:\n",
    "    if i.islower()==True and i.isalpha()==True:\n",
    "        lower_case.append(i)\n",
    "lower_alpha=\"abcdefghijklmnopqrstuvwxyz\"\n",
    "\n",
    "for i in lower_alpha:\n",
    "    count=0\n",
    "    for j in lower_case:\n",
    "        if i==j:\n",
    "            count += 1\n",
    "    print(\"{}는{:3d}개\".format(i,count))"
   ]
  },
  {
   "cell_type": "markdown",
   "metadata": {},
   "source": [
    "## 안재언"
   ]
  },
  {
   "cell_type": "code",
   "execution_count": 58,
   "metadata": {
    "scrolled": true
   },
   "outputs": [
    {
     "name": "stdout",
     "output_type": "stream",
     "text": [
      "----------\n",
      "a: 77\n",
      "b: 17\n",
      "c: 41\n",
      "d: 31\n",
      "e: 128\n",
      "f: 17\n",
      "g: 20\n",
      "h: 42\n",
      "i: 85\n",
      "j: 1\n",
      "k: 9\n",
      "l: 49\n",
      "m: 27\n",
      "n: 87\n",
      "o: 111\n",
      "p: 41\n",
      "q: 0\n",
      "r: 78\n",
      "s: 59\n",
      "t: 105\n",
      "u: 18\n",
      "v: 15\n",
      "w: 17\n",
      "x: 3\n",
      "y: 30\n",
      "z: 1\n"
     ]
    }
   ],
   "source": [
    "txt = \"You should check for DeprecationWarning in your code\\\n",
    "When Python 2.7 was still supported, a lot of functionality in Python 3 was kept for backward compatibility with Python 2.7. With the end of Python 2 support, these backward compatibility layers have been removed, or will be removed soon. Most of them emitted a DeprecationWarning warning for several years. For example, using collections.Mapping instead of collections.abc.Mapping emits a DeprecationWarning since Python 3.3, released in 2012.\\\n",
    "Test your application with the -W default command-line option to see DeprecationWarning and PendingDeprecationWarning, or even with -W error to treat them as errors. Warnings Filter can be used to ignore warnings from third-party code.\\\n",
    "Python 3.9 is the last version providing those Python 2 backward compatibility layers, to give more time to Python projects maintainers to organize the removal of the Python 2 support and add support for Python 3.9.\\\n",
    "Aliases to Abstract Base Classes in the collections module, like collections.Mapping alias to collections.abc.Mapping, are kept for one last release for backward compatibility. They will be removed from Python 3.10.\\\n",
    "More generally, try to run your tests in the Python Development Mode which helps to prepare your code to make it compatible with the next Python version.\\\n",
    "Note: a number of pre-existing deprecations were removed in this version of Python as well. Consult the Removed section.\"\n",
    "\n",
    "li=[]\n",
    "aaa=['a','b','c','d','e','f','g','h','i','j','k','l','m','n','o','p','q','r','s','t','u','v','w','x','y','z']\n",
    "\n",
    "for i in range(26):\n",
    "    li.append(0)\n",
    "\n",
    "for i in range(len(txt)):\n",
    "    if txt[i].isalpha() == True:\n",
    "        if txt[i].islower() == True:\n",
    "            for j in range(26):\n",
    "                if txt[i]==aaa[j]:\n",
    "                    li[j]+=1\n",
    "        \n",
    "print(\"-\"*10)\n",
    "for i in range(26):\n",
    "    print(aaa[i],\": \",li[i], sep=\"\")\n",
    "    "
   ]
  },
  {
   "cell_type": "markdown",
   "metadata": {},
   "source": [
    "## 최태훈"
   ]
  },
  {
   "cell_type": "code",
   "execution_count": 11,
   "metadata": {},
   "outputs": [
    {
     "name": "stdout",
     "output_type": "stream",
     "text": [
      "--------------------\n",
      "a :77\n",
      "b :17\n",
      "c :41\n",
      "d :31\n",
      "e :128\n",
      "f :17\n",
      "g :20\n",
      "h :42\n",
      "i :85\n",
      "j :1\n",
      "k :9\n",
      "l :49\n",
      "m :27\n",
      "n :87\n",
      "o :111\n",
      "p :41\n",
      "q :0\n",
      "r :77\n",
      "s :59\n",
      "t :105\n",
      "u :18\n",
      "v :15\n",
      "w :17\n",
      "x :3\n",
      "y :30\n",
      "z :1\n"
     ]
    }
   ],
   "source": [
    "abc = \"You should check for DeprecationWarning in your codeWhen Python 2.7 was still supported, a lot of functionality in Python 3 was kept for backward compatibility with Python 2.7. With the end of Python 2 support, these backward compatibility layers have been removed, or will be removed soon. Most of them emitted a DeprecationWarning warning for several years. For example, using collections.Mapping instead of collections.abc.Mapping emits a DeprecationWarning since Python 3.3, released in 2012.Test your application with the -W default command-line option to see DeprecationWarning and PendingDeprecationWarning, or even with -W error to treat them as errors. Warnings Filter can be used to ignore warnings from third-party code.Python 3.9 is the last version providing those Python 2 backward compatibility layers, to give more time to Python projects maintainers to organize the removal of the Python 2 suppot and add support for Python 3.9.Aliases to Abstract Base Classes in the collections module, like collections.Mapping alias to collections.abc.Mapping, are kept for one last release for backward compatibility. They will be removed from Python 3.10.More generally, try to run your tests in the Python Development Mode which helps to prepare your code to make it compatible with the next Python version. Note: a number of pre-existing deprecations were removed in this version of Python as well. Consult the Removed section.\"\n",
    "\n",
    "eng = 'abcdefghijklmnopqrstuvwxyz'\n",
    "\n",
    "print('-'*20)\n",
    "\n",
    "for data in eng:\n",
    "    print(data,':', end=\"\")\n",
    "    print(abc.count(data))"
   ]
  },
  {
   "cell_type": "markdown",
   "metadata": {},
   "source": [
    "## 한상근"
   ]
  },
  {
   "cell_type": "code",
   "execution_count": 6,
   "metadata": {},
   "outputs": [
    {
     "name": "stdout",
     "output_type": "stream",
     "text": [
      "a :  75\n",
      "b :  17\n",
      "c :  37\n",
      "d :  29\n",
      "e :  124\n",
      "f :  16\n",
      "g :  19\n",
      "h :  40\n",
      "i :  82\n",
      "j :  1\n",
      "k :  8\n",
      "l :  48\n",
      "n :  83\n",
      "m :  27\n",
      "o :  105\n",
      "p :  40\n",
      "q :  0\n",
      "r :  74\n",
      "s :  58\n",
      "t :  104\n",
      "u :  15\n",
      "v :  15\n",
      "w :  17\n",
      "x :  3\n",
      "y :  29\n",
      "z :  1\n"
     ]
    }
   ],
   "source": [
    "#과제 1\n",
    "\n",
    "text =\"\\\n",
    "When Python 2.7 was still supported, a lot of functionality in Python 3 was kept for backward compatibility with Python 2.7. With the end of Python 2 support, these backward compatibility layers have been removed, or will be removed soon. Most of them emitted a DeprecationWarning warning for several years. For example, using collections.Mapping instead of collections.abc.Mapping emits a DeprecationWarning since Python 3.3, released in 2012.\\\n",
    "Test your application with the -W default command-line option to see DeprecationWarning and PendingDeprecationWarning, or even with -W error to treat them as errors. Warnings Filter can be used to ignore warnings from third-party code.\\\n",
    "Python 3.9 is the last version providing those Python 2 backward compatibility layers, to give more time to Python projects maintainers to organize the removal of the Python 2 support and add support for Python 3.9.\\\n",
    "Aliases to Abstract Base Classes in the collections module, like collections.Mapping alias to collections.abc.Mapping, are kept for one last release for backward compatibility. They will be removed from Python 3.10.\\\n",
    "More generally, try to run your tests in the Python Development Mode which helps to prepare your code to make it compatible with the next Python version.\\\n",
    "Note: a number of pre-existing deprecations were removed in this version of Python as well. Consult the Removed section.\"\n",
    "\n",
    "ABC = 'abcdefghijklnmopqrstuvwxyz'\n",
    "for str in ABC:\n",
    "    print(str, \": \", text.count(str))"
   ]
  }
 ],
 "metadata": {
  "kernelspec": {
   "display_name": "Python 3",
   "language": "python",
   "name": "python3"
  },
  "language_info": {
   "codemirror_mode": {
    "name": "ipython",
    "version": 3
   },
   "file_extension": ".py",
   "mimetype": "text/x-python",
   "name": "python",
   "nbconvert_exporter": "python",
   "pygments_lexer": "ipython3",
   "version": "3.8.5"
  }
 },
 "nbformat": 4,
 "nbformat_minor": 4
}
