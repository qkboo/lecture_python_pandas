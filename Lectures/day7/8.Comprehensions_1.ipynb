{
 "cells": [
  {
   "cell_type": "markdown",
   "metadata": {},
   "source": [
    "# Comprehensions\n",
    "\n",
    "Comprehensions는 다른 시퀀스로 부터 새로운 시퀀스를 구성하도록 해준다. Python2.0 에서 List comprehensions가 도입된 후에 Python3.0 에서 dictionary 와  set comprehensions를 도입했다.\n",
    "\n",
    "- https://docs.python.org/3/tutorial/datastructures.html#list-comprehensions\n",
    "- https://www.python.org/dev/peps/pep-0202/\n",
    "- https://www.python.org/dev/peps/pep-0274/\n",
    "- https://python-3-patterns-idioms-test.readthedocs.io/en/latest/Comprehensions.html\n",
    "- https://wikidocs.net/22797 참조해 볼 것!"
   ]
  },
  {
   "cell_type": "markdown",
   "metadata": {},
   "source": [
    "## List Comprehensions\n",
    "\n",
    "A list comprehension consists of the following parts:\n",
    "\n",
    "- An Input Sequence. 입력 시퀀스\n",
    "- A Variable representing members of the input sequence : 변수가 입력 시퀀스의 멤버를 표현\n",
    "- An Optional Predicate expression. : 선택한 함축 표현\n",
    "- An Output Expression producing elements of the output list from members of the Input Sequence that satisfy the predicate\n",
    "\n",
    "<img src=\"https://python-3-patterns-idioms-test.readthedocs.io/en/latest/_images/listComprehensions.gif\" width=\"450\">"
   ]
  },
  {
   "cell_type": "code",
   "execution_count": null,
   "metadata": {},
   "outputs": [],
   "source": [
    "# 일반적 리스트\n",
    "results = []\n",
    "for num in [1, 2, 3, 4, 5, 6, 7, 8]:\n",
    "    result = num * num\n",
    "    results.append(result)"
   ]
  },
  {
   "cell_type": "code",
   "execution_count": null,
   "metadata": {},
   "outputs": [],
   "source": [
    "# 컴프리헨션\n"
   ]
  },
  {
   "cell_type": "markdown",
   "metadata": {},
   "source": [
    "#### 조건문"
   ]
  },
  {
   "cell_type": "code",
   "execution_count": null,
   "metadata": {},
   "outputs": [],
   "source": [
    "# 문자열 리스트에서 길이가 2 이하인 문자열 리스트 만들기\n",
    "strings = ['a', 'as', 'bat', 'car', 'dove', 'python']\n"
   ]
  },
  {
   "cell_type": "code",
   "execution_count": null,
   "metadata": {},
   "outputs": [],
   "source": [
    "# 1~100 사이의 수중에 짝수 리스트 만들기\n"
   ]
  },
  {
   "cell_type": "markdown",
   "metadata": {},
   "source": [
    "`[실습] ` 1~100 사이에 3, 6, 9 가 있는 수 리스트 만들기"
   ]
  },
  {
   "cell_type": "code",
   "execution_count": null,
   "metadata": {},
   "outputs": [],
   "source": [
    "# '13'\n"
   ]
  },
  {
   "cell_type": "code",
   "execution_count": null,
   "metadata": {},
   "outputs": [],
   "source": [
    "# 문자열 리스트에서 문자열 길이를 순차 자료형으로 저장해 보자\n",
    "strings = ['a', 'as', 'bat', 'car', 'dove', 'python']\n",
    "\n"
   ]
  },
  {
   "cell_type": "code",
   "execution_count": null,
   "metadata": {},
   "outputs": [],
   "source": []
  },
  {
   "cell_type": "code",
   "execution_count": null,
   "metadata": {},
   "outputs": [],
   "source": [
    "# 제곱\n",
    "foo = [1, 4, '5', 10, True, '10', 8]\n"
   ]
  },
  {
   "cell_type": "markdown",
   "metadata": {},
   "source": [
    "이 결과는 **map**,**filter** 그리고 **lambda** function으로 구현 할 수 있다."
   ]
  },
  {
   "cell_type": "code",
   "execution_count": null,
   "metadata": {},
   "outputs": [],
   "source": [
    "#filter\n",
    "f = filter( )"
   ]
  },
  {
   "cell_type": "code",
   "execution_count": null,
   "metadata": {},
   "outputs": [],
   "source": [
    "# map 으로 시퀀스 멤버를 다룬다.\n",
    "l = map( )"
   ]
  },
  {
   "cell_type": "code",
   "execution_count": null,
   "metadata": {},
   "outputs": [],
   "source": [
    "# filter 와 map을 조합\n",
    "l = map()"
   ]
  },
  {
   "cell_type": "markdown",
   "metadata": {},
   "source": [
    "### Nested Comprehensions\n",
    "\n",
    "크기 n인 단위행렬(identity matrix)는 대각이 1이고 나머지는 0으로 채워진 n X n  매드릭스이다.\n",
    "\n",
    "파이썬에서 리스트의 리스트로서 행을 리스트로 이런 단위행렬을 표현할 수 있다.\n",
    "\n",
    "```python\n",
    "[ [1,0,0],\n",
    "  [0,1,0],\n",
    "  [0,0,1] ]\n",
    "```\n",
    "\n",
    "이 행렬을 아래같은 중첩된 컴프리헨션 표현식으로 포함할 수 있다.\n"
   ]
  },
  {
   "cell_type": "code",
   "execution_count": null,
   "metadata": {},
   "outputs": [],
   "source": [
    "# 3x3 행렬\n",
    "\n"
   ]
  },
  {
   "cell_type": "markdown",
   "metadata": {},
   "source": [
    "디렉토리 구조에서 .py 로 끝나는 자료:\n",
    " - os.walk():\n",
    "\n",
    "```python\n",
    "# Comprehensions/os_walk_comprehension.py\n",
    "import os\n",
    "restFiles = [os.path.join(d[0], f) for d in os.walk(\".\")\n",
    "             for f in d[2] if f.endswith(\".py\")]\n",
    "for r in restFiles:\n",
    "    print(r)\n",
    "```   "
   ]
  },
  {
   "cell_type": "code",
   "execution_count": null,
   "metadata": {},
   "outputs": [],
   "source": [
    "# 현재 디렉토리에서 .ipynb 확장자를 가진 파일!!\n",
    "import os\n"
   ]
  },
  {
   "cell_type": "markdown",
   "metadata": {},
   "source": [
    "### zip과 Comprehension으로 리스트 생성\n",
    "\n",
    "zip()을 이용해 두 리스트의 열 결합을 통해 새 리스트로 생성하는데 유용하다.\n",
    "\n",
    "`zip()`을 사용해 한 번에 둘 이상의 요소를 다룰 수 있다"
   ]
  },
  {
   "cell_type": "markdown",
   "metadata": {},
   "source": [
    "Multiple types (auto unpacking of a tuple):\n",
    "\n",
    "```python\n",
    "[f(v) for (n, f), v in zip(cls.all_slots, values)]\n",
    "```\n",
    "\n"
   ]
  },
  {
   "cell_type": "code",
   "execution_count": null,
   "metadata": {},
   "outputs": [],
   "source": [
    "#2018/12/13 현재 2018: 2018/9\n",
    "celtrion_profits = {\n",
    "    \"영업이익\": [2590, 2497, 5220, 2947],  # 2015~2018\n",
    "    \"영업현금흐름\": [594, 2614, 5238, 2518]\n",
    "}"
   ]
  },
  {
   "cell_type": "markdown",
   "metadata": {},
   "source": [
    "for 반복"
   ]
  },
  {
   "cell_type": "code",
   "execution_count": null,
   "metadata": {},
   "outputs": [],
   "source": [
    "for x, y in zip(celtrion_profits['영업현금흐름'], celtrion_profits['영업이익']):\n",
    "    print(int(x)/int(y))"
   ]
  },
  {
   "cell_type": "markdown",
   "metadata": {},
   "source": [
    "컴프리헨션"
   ]
  },
  {
   "cell_type": "code",
   "execution_count": null,
   "metadata": {},
   "outputs": [],
   "source": [
    "# comprehension\n",
    "\n"
   ]
  },
  {
   "cell_type": "code",
   "execution_count": null,
   "metadata": {},
   "outputs": [],
   "source": [
    "# zip & comprehension\n",
    "celtrion_profits['영업이익대비현금흐름'] = [\n",
    "    \n",
    "    \n",
    "    \n",
    "]"
   ]
  },
  {
   "cell_type": "code",
   "execution_count": 9,
   "metadata": {},
   "outputs": [
    {
     "data": {
      "text/plain": [
       "{'영업이익': [2590, 2497, 5220, 2947],\n",
       " '영업현금흐름': [594, 2614, 5238, 2518],\n",
       " '영업이익대비현금흐름': [0.22934362934362934,\n",
       "  1.0468562274729676,\n",
       "  1.0034482758620689,\n",
       "  0.8544282321004412]}"
      ]
     },
     "execution_count": 9,
     "metadata": {},
     "output_type": "execute_result"
    }
   ],
   "source": [
    "celtrion_profits"
   ]
  },
  {
   "cell_type": "markdown",
   "metadata": {},
   "source": [
    "## Set Comprehensions\n",
    "\n",
    "Set에 리스트 같은 포함 표현식을 사용해 구성할 수 있다.\n",
    "\n",
    "이름을 포함한 리스트가 있을 때:\n",
    "\n",
    "```python\n",
    "names = [ 'Bob', 'JOHN', 'alice', 'bob', 'ALICE', 'J', 'Bob' ]\n",
    "```\n",
    "다음 같이 첫 문자를 대문자로한 세트를 원한다:\n",
    "\n",
    "```python\n",
    "{ 'Bob', 'John', 'Alice' }\n",
    "```"
   ]
  },
  {
   "cell_type": "code",
   "execution_count": null,
   "metadata": {},
   "outputs": [],
   "source": [
    "names = [ 'Bob', 'JOHN', 'alice', 'bob', 'ALICE', 'J', 'Bob' ]"
   ]
  },
  {
   "cell_type": "code",
   "execution_count": null,
   "metadata": {},
   "outputs": [],
   "source": [
    "# Set\n"
   ]
  },
  {
   "cell_type": "code",
   "execution_count": 2,
   "metadata": {},
   "outputs": [
    {
     "name": "stdout",
     "output_type": "stream",
     "text": [
      "{'a', 'as'}\n"
     ]
    }
   ],
   "source": [
    "strings = ['a', 'as', 'bat', 'car', 'dove', 'python']\n",
    "# 2글자 이하\n"
   ]
  },
  {
   "cell_type": "markdown",
   "metadata": {},
   "source": [
    "## Dictionary Comprehensions\n"
   ]
  },
  {
   "cell_type": "code",
   "execution_count": null,
   "metadata": {},
   "outputs": [],
   "source": [
    "strings = ['a', 'as', 'bat', 'car', 'dove', 'python']\n"
   ]
  },
  {
   "cell_type": "code",
   "execution_count": null,
   "metadata": {},
   "outputs": [],
   "source": []
  },
  {
   "cell_type": "code",
   "execution_count": null,
   "metadata": {},
   "outputs": [],
   "source": [
    "{ }"
   ]
  }
 ],
 "metadata": {
  "kernelspec": {
   "display_name": "Python 3",
   "language": "python",
   "name": "python3"
  },
  "language_info": {
   "codemirror_mode": {
    "name": "ipython",
    "version": 3
   },
   "file_extension": ".py",
   "mimetype": "text/x-python",
   "name": "python",
   "nbconvert_exporter": "python",
   "pygments_lexer": "ipython3",
   "version": "3.8.5"
  }
 },
 "nbformat": 4,
 "nbformat_minor": 4
}
