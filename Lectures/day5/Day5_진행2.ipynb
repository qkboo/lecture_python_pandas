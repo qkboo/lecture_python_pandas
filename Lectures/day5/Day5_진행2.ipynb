{
 "cells": [
  {
   "cell_type": "markdown",
   "metadata": {},
   "source": [
    "# 모듈과 패키지!"
   ]
  },
  {
   "cell_type": "code",
   "execution_count": 3,
   "metadata": {},
   "outputs": [
    {
     "data": {
      "text/plain": [
       "['/home/qkboo/Home/Jupyter-Notebook/Python3/1_Basic/day5_진행',\n",
       " '/home/qkboo/anaconda3/envs/py3/lib/python38.zip',\n",
       " '/home/qkboo/anaconda3/envs/py3/lib/python3.8',\n",
       " '/home/qkboo/anaconda3/envs/py3/lib/python3.8/lib-dynload',\n",
       " '',\n",
       " '/home/qkboo/anaconda3/envs/py3/lib/python3.8/site-packages',\n",
       " '/home/qkboo/anaconda3/envs/py3/lib/python3.8/site-packages/IPython/extensions',\n",
       " '/home/qkboo/.ipython']"
      ]
     },
     "execution_count": 3,
     "metadata": {},
     "output_type": "execute_result"
    }
   ],
   "source": [
    "import sys\n",
    "sys.path"
   ]
  },
  {
   "cell_type": "code",
   "execution_count": 4,
   "metadata": {},
   "outputs": [
    {
     "data": {
      "text/plain": [
       "module"
      ]
     },
     "execution_count": 4,
     "metadata": {},
     "output_type": "execute_result"
    }
   ],
   "source": [
    "type(sys)"
   ]
  },
  {
   "cell_type": "code",
   "execution_count": 5,
   "metadata": {},
   "outputs": [],
   "source": [
    "adb = \"dkdkd\""
   ]
  },
  {
   "cell_type": "markdown",
   "metadata": {},
   "source": [
    "mod1"
   ]
  },
  {
   "cell_type": "code",
   "execution_count": 6,
   "metadata": {},
   "outputs": [],
   "source": [
    "import mod1"
   ]
  },
  {
   "cell_type": "code",
   "execution_count": 7,
   "metadata": {},
   "outputs": [
    {
     "data": {
      "text/plain": [
       "3"
      ]
     },
     "execution_count": 7,
     "metadata": {},
     "output_type": "execute_result"
    }
   ],
   "source": [
    "mod1.add(1, 2)"
   ]
  },
  {
   "cell_type": "code",
   "execution_count": 9,
   "metadata": {},
   "outputs": [
    {
     "name": "stdout",
     "output_type": "stream",
     "text": [
      "<module 'mod1' from '/home/qkboo/Home/Jupyter-Notebook/Python3/1_Basic/day5_진행/mod1.py'>\n"
     ]
    }
   ],
   "source": [
    "print(mod1)"
   ]
  },
  {
   "cell_type": "code",
   "execution_count": 10,
   "metadata": {},
   "outputs": [
    {
     "name": "stdout",
     "output_type": "stream",
     "text": [
      "Help on module mod1:\n",
      "\n",
      "NAME\n",
      "    mod1 - # mod1.py\n",
      "\n",
      "FUNCTIONS\n",
      "    add(a, b)\n",
      "    \n",
      "    sub(a, b)\n",
      "\n",
      "FILE\n",
      "    /home/qkboo/Home/Jupyter-Notebook/Python3/1_Basic/day5_진행/mod1.py\n",
      "\n",
      "\n"
     ]
    }
   ],
   "source": [
    "help(mod1)"
   ]
  },
  {
   "cell_type": "code",
   "execution_count": 11,
   "metadata": {},
   "outputs": [
    {
     "data": {
      "text/plain": [
       "['__builtins__',\n",
       " '__cached__',\n",
       " '__doc__',\n",
       " '__file__',\n",
       " '__loader__',\n",
       " '__name__',\n",
       " '__package__',\n",
       " '__spec__',\n",
       " 'add',\n",
       " 'sub']"
      ]
     },
     "execution_count": 11,
     "metadata": {},
     "output_type": "execute_result"
    }
   ],
   "source": [
    "dir(mod1)"
   ]
  },
  {
   "cell_type": "code",
   "execution_count": 12,
   "metadata": {
    "collapsed": true,
    "jupyter": {
     "outputs_hidden": true
    }
   },
   "outputs": [
    {
     "data": {
      "text/plain": [
       "['__breakpointhook__',\n",
       " '__displayhook__',\n",
       " '__doc__',\n",
       " '__excepthook__',\n",
       " '__interactivehook__',\n",
       " '__loader__',\n",
       " '__name__',\n",
       " '__package__',\n",
       " '__spec__',\n",
       " '__stderr__',\n",
       " '__stdin__',\n",
       " '__stdout__',\n",
       " '__unraisablehook__',\n",
       " '_base_executable',\n",
       " '_clear_type_cache',\n",
       " '_current_frames',\n",
       " '_debugmallocstats',\n",
       " '_framework',\n",
       " '_getframe',\n",
       " '_git',\n",
       " '_home',\n",
       " '_xoptions',\n",
       " 'abiflags',\n",
       " 'addaudithook',\n",
       " 'api_version',\n",
       " 'argv',\n",
       " 'audit',\n",
       " 'base_exec_prefix',\n",
       " 'base_prefix',\n",
       " 'breakpointhook',\n",
       " 'builtin_module_names',\n",
       " 'byteorder',\n",
       " 'call_tracing',\n",
       " 'callstats',\n",
       " 'copyright',\n",
       " 'displayhook',\n",
       " 'dont_write_bytecode',\n",
       " 'exc_info',\n",
       " 'excepthook',\n",
       " 'exec_prefix',\n",
       " 'executable',\n",
       " 'exit',\n",
       " 'flags',\n",
       " 'float_info',\n",
       " 'float_repr_style',\n",
       " 'get_asyncgen_hooks',\n",
       " 'get_coroutine_origin_tracking_depth',\n",
       " 'getallocatedblocks',\n",
       " 'getcheckinterval',\n",
       " 'getdefaultencoding',\n",
       " 'getdlopenflags',\n",
       " 'getfilesystemencodeerrors',\n",
       " 'getfilesystemencoding',\n",
       " 'getprofile',\n",
       " 'getrecursionlimit',\n",
       " 'getrefcount',\n",
       " 'getsizeof',\n",
       " 'getswitchinterval',\n",
       " 'gettrace',\n",
       " 'hash_info',\n",
       " 'hexversion',\n",
       " 'implementation',\n",
       " 'int_info',\n",
       " 'intern',\n",
       " 'is_finalizing',\n",
       " 'maxsize',\n",
       " 'maxunicode',\n",
       " 'meta_path',\n",
       " 'modules',\n",
       " 'path',\n",
       " 'path_hooks',\n",
       " 'path_importer_cache',\n",
       " 'platform',\n",
       " 'prefix',\n",
       " 'ps1',\n",
       " 'ps2',\n",
       " 'ps3',\n",
       " 'pycache_prefix',\n",
       " 'set_asyncgen_hooks',\n",
       " 'set_coroutine_origin_tracking_depth',\n",
       " 'setcheckinterval',\n",
       " 'setdlopenflags',\n",
       " 'setprofile',\n",
       " 'setrecursionlimit',\n",
       " 'setswitchinterval',\n",
       " 'settrace',\n",
       " 'stderr',\n",
       " 'stdin',\n",
       " 'stdout',\n",
       " 'thread_info',\n",
       " 'unraisablehook',\n",
       " 'version',\n",
       " 'version_info',\n",
       " 'warnoptions']"
      ]
     },
     "execution_count": 12,
     "metadata": {},
     "output_type": "execute_result"
    }
   ],
   "source": [
    "dir(sys)"
   ]
  },
  {
   "cell_type": "code",
   "execution_count": 13,
   "metadata": {},
   "outputs": [],
   "source": [
    "from mod1 import add\n",
    "from mod1 import sub"
   ]
  },
  {
   "cell_type": "code",
   "execution_count": 14,
   "metadata": {},
   "outputs": [
    {
     "data": {
      "text/plain": [
       "12"
      ]
     },
     "execution_count": 14,
     "metadata": {},
     "output_type": "execute_result"
    }
   ],
   "source": [
    "add(10, 2)"
   ]
  },
  {
   "cell_type": "code",
   "execution_count": 15,
   "metadata": {},
   "outputs": [
    {
     "data": {
      "text/plain": [
       "50"
      ]
     },
     "execution_count": 15,
     "metadata": {},
     "output_type": "execute_result"
    }
   ],
   "source": [
    "sub(54, 4)"
   ]
  },
  {
   "cell_type": "code",
   "execution_count": 18,
   "metadata": {},
   "outputs": [],
   "source": [
    "from mod1 import *"
   ]
  },
  {
   "cell_type": "code",
   "execution_count": 19,
   "metadata": {},
   "outputs": [
    {
     "data": {
      "text/plain": [
       "3"
      ]
     },
     "execution_count": 19,
     "metadata": {},
     "output_type": "execute_result"
    }
   ],
   "source": [
    "add(1, 2)"
   ]
  },
  {
   "cell_type": "code",
   "execution_count": 20,
   "metadata": {},
   "outputs": [],
   "source": [
    "from mod1 import add as adder"
   ]
  },
  {
   "cell_type": "code",
   "execution_count": 21,
   "metadata": {},
   "outputs": [
    {
     "data": {
      "text/plain": [
       "3"
      ]
     },
     "execution_count": 21,
     "metadata": {},
     "output_type": "execute_result"
    }
   ],
   "source": [
    "adder(1, 2)"
   ]
  },
  {
   "cell_type": "markdown",
   "metadata": {},
   "source": [
    "# 패키지"
   ]
  },
  {
   "cell_type": "code",
   "execution_count": 22,
   "metadata": {},
   "outputs": [],
   "source": [
    "import mymodule.mod1"
   ]
  },
  {
   "cell_type": "code",
   "execution_count": 23,
   "metadata": {},
   "outputs": [
    {
     "data": {
      "text/plain": [
       "3"
      ]
     },
     "execution_count": 23,
     "metadata": {},
     "output_type": "execute_result"
    }
   ],
   "source": [
    "mymodule.mod1.add(1,2)"
   ]
  },
  {
   "cell_type": "code",
   "execution_count": 24,
   "metadata": {},
   "outputs": [],
   "source": [
    "import mymodule.mod1 as mod1"
   ]
  },
  {
   "cell_type": "code",
   "execution_count": 25,
   "metadata": {},
   "outputs": [
    {
     "data": {
      "text/plain": [
       "7"
      ]
     },
     "execution_count": 25,
     "metadata": {},
     "output_type": "execute_result"
    }
   ],
   "source": [
    "mod1.add(3, 4)"
   ]
  },
  {
   "cell_type": "code",
   "execution_count": null,
   "metadata": {},
   "outputs": [],
   "source": [
    "from mymodule import mod1"
   ]
  },
  {
   "cell_type": "markdown",
   "metadata": {},
   "source": [
    "#### game 패키지 만들기"
   ]
  },
  {
   "cell_type": "code",
   "execution_count": 42,
   "metadata": {},
   "outputs": [],
   "source": [
    "from mymodule.game.sound import echo"
   ]
  },
  {
   "cell_type": "code",
   "execution_count": 43,
   "metadata": {},
   "outputs": [
    {
     "name": "stdout",
     "output_type": "stream",
     "text": [
      "echo\n"
     ]
    }
   ],
   "source": [
    "echo.echo_test()"
   ]
  },
  {
   "cell_type": "code",
   "execution_count": 49,
   "metadata": {},
   "outputs": [],
   "source": [
    "from mymodule.game.sound import foo"
   ]
  },
  {
   "cell_type": "code",
   "execution_count": 50,
   "metadata": {},
   "outputs": [
    {
     "name": "stdout",
     "output_type": "stream",
     "text": [
      "foo\n"
     ]
    }
   ],
   "source": [
    "foo.foo_test()"
   ]
  },
  {
   "cell_type": "code",
   "execution_count": 48,
   "metadata": {},
   "outputs": [],
   "source": [
    "del foo"
   ]
  },
  {
   "cell_type": "code",
   "execution_count": 51,
   "metadata": {},
   "outputs": [],
   "source": [
    "import mymodule.game.graphics.render as render"
   ]
  },
  {
   "cell_type": "code",
   "execution_count": 52,
   "metadata": {},
   "outputs": [
    {
     "name": "stdout",
     "output_type": "stream",
     "text": [
      "render\n"
     ]
    }
   ],
   "source": [
    "render.render_test()"
   ]
  },
  {
   "cell_type": "markdown",
   "metadata": {},
   "source": [
    "# __main__"
   ]
  },
  {
   "cell_type": "code",
   "execution_count": null,
   "metadata": {},
   "outputs": [],
   "source": []
  },
  {
   "cell_type": "code",
   "execution_count": null,
   "metadata": {},
   "outputs": [],
   "source": []
  },
  {
   "cell_type": "code",
   "execution_count": null,
   "metadata": {},
   "outputs": [],
   "source": []
  },
  {
   "cell_type": "code",
   "execution_count": null,
   "metadata": {},
   "outputs": [],
   "source": []
  },
  {
   "cell_type": "code",
   "execution_count": null,
   "metadata": {},
   "outputs": [],
   "source": []
  },
  {
   "cell_type": "code",
   "execution_count": null,
   "metadata": {},
   "outputs": [],
   "source": []
  },
  {
   "cell_type": "markdown",
   "metadata": {},
   "source": [
    "# 외부 모듈 사용하기\n",
    "\n",
    "- math\n",
    "- random\n",
    "- datetime"
   ]
  },
  {
   "cell_type": "code",
   "execution_count": 1,
   "metadata": {},
   "outputs": [
    {
     "name": "stdout",
     "output_type": "stream",
     "text": [
      "floor(7.7) : 7\n",
      "ceil(10.1) : 11\n",
      "round(8.6) : 9\n",
      "5의 팩토리얼 : 120\n"
     ]
    }
   ],
   "source": [
    "# ex8-4.py\n",
    "import math\n",
    "\n",
    "print('floor(7.7) : %d' % math.floor(7.7))\n",
    "print('ceil(10.1) : %d' % math.ceil(10.1))\n",
    "print('round(8.6) : %d' % round(8.6))\n",
    "\n",
    "print('5의 팩토리얼 : %d' % math.factorial(5))\n"
   ]
  },
  {
   "cell_type": "code",
   "execution_count": 26,
   "metadata": {},
   "outputs": [
    {
     "name": "stdout",
     "output_type": "stream",
     "text": [
      "sin(pi/2) : 1.00\n",
      "cos(pi) : -1.00\n",
      "tan(pi*2) : -0.00\n",
      "2의 4승 : 16\n",
      "49의 제곱근 : 7\n",
      "log10(100) : 2.00\n"
     ]
    }
   ],
   "source": [
    "# ex8-5.py\n",
    "import math as m\n",
    "\n",
    "print('sin(pi/2) : %.2f' % m.sin(m.pi/2))\n",
    "print('cos(pi) : %.2f' % m.cos(m.pi))\n",
    "print('tan(pi*2) : %.2f' % m.tan(m.pi*2))\n",
    "\n",
    "print('2의 4승 : %d' % m.pow(2,4))\n",
    "print('49의 제곱근 : %d' % m.sqrt(49))\n",
    "print('log10(100) : %.2f' % m.log10(100))\n"
   ]
  },
  {
   "cell_type": "code",
   "execution_count": 40,
   "metadata": {},
   "outputs": [
    {
     "name": "stdout",
     "output_type": "stream",
     "text": [
      "0.09888492444564012\n",
      "0.6694563443256532\n",
      "0.08610258258734149\n"
     ]
    }
   ],
   "source": [
    "# ex8-6.py\n",
    "import random \n",
    "\n",
    "for i in range(3) :\n",
    "    print(random.random())"
   ]
  },
  {
   "cell_type": "code",
   "execution_count": 50,
   "metadata": {},
   "outputs": [
    {
     "name": "stdout",
     "output_type": "stream",
     "text": [
      "5\n",
      "3\n",
      "9\n",
      "5\n",
      "7\n"
     ]
    }
   ],
   "source": [
    "# ex8-7.py\n",
    "import random\n",
    "\n",
    "for i in range(5) :\n",
    "    print(random.randrange(1, 11, 2))"
   ]
  },
  {
   "cell_type": "code",
   "execution_count": 8,
   "metadata": {},
   "outputs": [
    {
     "name": "stdout",
     "output_type": "stream",
     "text": [
      "2\n",
      "6\n",
      "1\n",
      "5\n",
      "6\n"
     ]
    }
   ],
   "source": [
    "# ex8-8.py\n",
    "import random\n",
    "\n",
    "for i in range(5) :\n",
    "    print(random.randint(1, 6))"
   ]
  },
  {
   "cell_type": "code",
   "execution_count": 3,
   "metadata": {},
   "outputs": [
    {
     "name": "stdout",
     "output_type": "stream",
     "text": [
      "보\n",
      "가위\n",
      "바위\n",
      "보\n",
      "보\n"
     ]
    }
   ],
   "source": [
    "# ex8-9.py\n",
    "import random\n",
    "\n",
    "toss = ['가위', '바위', '보']\n",
    "\n",
    "for i in range(5) :\n",
    "    print(random.choice(toss))"
   ]
  },
  {
   "cell_type": "code",
   "execution_count": 46,
   "metadata": {},
   "outputs": [
    {
     "name": "stdout",
     "output_type": "stream",
     "text": [
      "['바나나', '사과', '오렌지']\n",
      "['사과', '바나나', '오렌지']\n",
      "['오렌지', '사과', '바나나']\n"
     ]
    }
   ],
   "source": [
    "# ex8-10.py\n",
    "import random\n",
    "\n",
    "fruits = ['사과', '바나나', '오렌지']\n",
    "\n",
    "for i in range(3) :\n",
    "    random.shuffle(fruits)\n",
    "    print(fruits)"
   ]
  },
  {
   "cell_type": "code",
   "execution_count": 58,
   "metadata": {},
   "outputs": [
    {
     "name": "stdout",
     "output_type": "stream",
     "text": [
      "------------------------------\n",
      "주사위 던지기 : 1번째\n",
      "나 : 4\n",
      "컴퓨터 : 2\n",
      "나의 승리!\n",
      "계속하려면 y를 입력하세요!y\n",
      "------------------------------\n",
      "주사위 던지기 : 2번째\n",
      "나 : 2\n",
      "컴퓨터 : 1\n",
      "나의 승리!\n",
      "계속하려면 y를 입력하세요!\n"
     ]
    }
   ],
   "source": [
    "# ex8-11.py\n",
    "import random\n",
    "\n",
    "again = 'y'\n",
    "count = 1\n",
    "\n",
    "while again =='y':\n",
    "    print('-' * 30)\n",
    "    print('주사위 던지기 : %d번째' % count)\n",
    "    me = random.randint(1, 6)\n",
    "    computer = random.randint(1, 6)\n",
    "    print('나 : %d' % me )\n",
    "    print('컴퓨터 : %d' % computer)\n",
    "    \n",
    "    if me > computer :\n",
    "        print('나의 승리!')\n",
    "    elif me == computer :\n",
    "        print('무승부!')\n",
    "    else :\n",
    "        print('컴퓨터의 승리!')\n",
    "    \n",
    "    count = count + 1\n",
    "    again = input('계속하려면 y를 입력하세요!')\n"
   ]
  },
  {
   "cell_type": "code",
   "execution_count": 60,
   "metadata": {
    "scrolled": true
   },
   "outputs": [
    {
     "name": "stdout",
     "output_type": "stream",
     "text": [
      "==============================\n",
      "가위 바위 보 게임\n",
      "==============================\n",
      "나 : 가위\n",
      "당신 : 바위\n",
      "당신의 승리입니다!\n",
      "------------------------------\n",
      "계속하려면 y를 입력하세요!y\n",
      "\n",
      "나 : 가위\n",
      "당신 : 가위\n",
      "무승부입니다!\n",
      "------------------------------\n",
      "계속하려면 y를 입력하세요!\n",
      "\n"
     ]
    }
   ],
   "source": [
    "# ex8-12.py\n",
    "import random\n",
    "\n",
    "def whoWin(x, y) :\n",
    "    if x == '가위' : \n",
    "        if y == '가위' :\n",
    "            msg = '무승부입니다!'\n",
    "        elif y == '바위' :\n",
    "            msg = '당신의 승리입니다!'\n",
    "        else :\n",
    "            msg = '나의 승리입니다!'\n",
    "    elif x == '바위' :\n",
    "        if y == '가위' :\n",
    "            msg = '나의 승리입니다!'\n",
    "        elif y == '바위' :\n",
    "            msg = '무승부입니다!'\n",
    "        else :\n",
    "            msg = '당신의 승리입니다!'\n",
    "    else :\n",
    "        if y == '가위' :\n",
    "            msg = '당신의 승리입니다!'\n",
    "        elif y == '바위' :\n",
    "            msg = '나의 승리입니다!'\n",
    "        else :\n",
    "            msg = '무승부입니다!'\n",
    "\n",
    "    return msg\n",
    "\n",
    "print('=' * 30)\n",
    "print('가위 바위 보 게임')\n",
    "print('=' * 30)\n",
    "\n",
    "gawibawibo = ['가위','바위', '보']\n",
    "again = 'y'\n",
    "\n",
    "while again == 'y' :\n",
    "    me  = random.choice(gawibawibo)\n",
    "    you = random.choice(gawibawibo)\n",
    "\n",
    "    result = whoWin(me, you)\n",
    "\n",
    "    print('나 : %s' % me)\n",
    "    print('당신 : %s' % you)\n",
    "    print(result)\n",
    "    print('-' * 30)\n",
    "    \n",
    "    again = input('계속하려면 y를 입력하세요!')\n",
    "    print()\n"
   ]
  },
  {
   "cell_type": "code",
   "execution_count": 9,
   "metadata": {},
   "outputs": [
    {
     "name": "stdout",
     "output_type": "stream",
     "text": [
      "년 : 2020\n",
      "월 : 2\n",
      "일 : 14\n",
      "시 : 10\n",
      "분 : 27\n",
      "초 : 16\n",
      "2020/02/14 10:27:16\n",
      "20-02-14 AM 10:27\n"
     ]
    }
   ],
   "source": [
    "# ex8-13.py\n",
    "from datetime import datetime\n",
    "\n",
    "today = datetime.now()\n",
    "\n",
    "print('년 : %s' % today.year)\n",
    "print('월 : %s' % today.month)\n",
    "print('일 : %s' % today.day)\n",
    "print('시 : %s' % today.hour)\n",
    "print('분 : %s' % today.minute)\n",
    "print('초 : %s' % today.second)\n",
    "\n",
    "print(today.strftime('%Y/%m/%d %H:%M:%S'))\n",
    "print(today.strftime('%y-%m-%d %p %I:%M'))\n"
   ]
  },
  {
   "cell_type": "code",
   "execution_count": 9,
   "metadata": {},
   "outputs": [
    {
     "name": "stdout",
     "output_type": "stream",
     "text": [
      "년 : 2020\n",
      "월 : 2\n",
      "일 : 14\n",
      "시 : 10\n",
      "분 : 27\n",
      "초 : 16\n",
      "2020/02/14 10:27:16\n",
      "20-02-14 AM 10:27\n"
     ]
    }
   ],
   "source": [
    "today = datetime.now()\n",
    "\n",
    "print(f'년 : {today.year}')\n",
    "print('월 : %s' % today.month)\n",
    "print('일 : %s' % today.day)\n",
    "print('시 : %s' % today.hour)\n",
    "print('분 : %s' % today.minute)\n",
    "print('초 : %s' % today.second)\n",
    "\n",
    "print(today.strftime('%Y/%m/%d %H:%M:%S'))\n",
    "print(today.strftime('%y-%m-%d %p %I:%M'))\n"
   ]
  }
 ],
 "metadata": {
  "kernelspec": {
   "display_name": "Python 3",
   "language": "python",
   "name": "python3"
  },
  "language_info": {
   "codemirror_mode": {
    "name": "ipython",
    "version": 3
   },
   "file_extension": ".py",
   "mimetype": "text/x-python",
   "name": "python",
   "nbconvert_exporter": "python",
   "pygments_lexer": "ipython3",
   "version": "3.8.5"
  }
 },
 "nbformat": 4,
 "nbformat_minor": 4
}
