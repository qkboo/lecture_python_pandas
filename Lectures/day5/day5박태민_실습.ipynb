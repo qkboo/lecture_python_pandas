{
 "cells": [
  {
   "cell_type": "markdown",
   "metadata": {},
   "source": [
    "# 실습"
   ]
  },
  {
   "cell_type": "code",
   "execution_count": null,
   "metadata": {},
   "outputs": [
    {
     "name": "stdin",
     "output_type": "stream",
     "text": [
      " one two three four\n",
      " python notebook\n",
      " abc defghi\n"
     ]
    }
   ],
   "source": [
    "def msg_reverse(message):\n",
    "    for i in range (len(message)):     \n",
    "        print(''.join(reversed(message[i])))\n",
    "def count_word(string):\n",
    "    for i in range (len(string)):\n",
    "        a=[]\n",
    "        a=string[i].split()\n",
    "        print(len(a))\n",
    "def count_letter(letter):\n",
    "    count_l=0\n",
    "    for i in range (len(letter)):\n",
    "        b=[]\n",
    "        b=letter[i].split()\n",
    "    for j in range (len(letter)):\n",
    "        count_l = count_l+len(letter[j])\n",
    "    print(count_l)    \n",
    "        \n",
    "text = []\n",
    "for i in range(5):\n",
    "    text.append(input())\n",
    "    \n",
    "print('-'*30)\n",
    "print('각 줄의 문장을 거꾸로')\n",
    "msg_reverse(text)\n",
    "print('-'*30)\n",
    "print('각 줄의 단어의 갯수')\n",
    "count_word(text)\n",
    "print('-'*30)\n",
    "print('전체 문장의 문자 갯수')\n",
    "count_letter(text)\n",
    "print('-'*30)"
   ]
  },
  {
   "cell_type": "code",
   "execution_count": null,
   "metadata": {},
   "outputs": [],
   "source": []
  }
 ],
 "metadata": {
  "kernelspec": {
   "display_name": "Python 3",
   "language": "python",
   "name": "python3"
  },
  "language_info": {
   "codemirror_mode": {
    "name": "ipython",
    "version": 3
   },
   "file_extension": ".py",
   "mimetype": "text/x-python",
   "name": "python",
   "nbconvert_exporter": "python",
   "pygments_lexer": "ipython3",
   "version": "3.6.12"
  }
 },
 "nbformat": 4,
 "nbformat_minor": 4
}
