{
 "cells": [
  {
   "cell_type": "code",
   "execution_count": null,
   "metadata": {},
   "outputs": [],
   "source": [
    "poem = '''There are was a young lady named bright\n",
    "lalalala\n",
    "laralrarara\n",
    "hohohahahoho'''"
   ]
  },
  {
   "cell_type": "code",
   "execution_count": null,
   "metadata": {},
   "outputs": [],
   "source": [
    "f=open(\"new\",mode=\"wt\",encoding=\"utf-8\")\n",
    "for i in poem:\n",
    "    f.write(i)\n",
    "f.close()"
   ]
  },
  {
   "cell_type": "code",
   "execution_count": null,
   "metadata": {},
   "outputs": [],
   "source": [
    "f_in=open(\"new\",mode=\"rt\")\n",
    "listw=[]\n",
    "for i in f_in:\n",
    "    listw.append(i)\n",
    "    print(listw)\n",
    "    print(len(i))\n",
    "f_in.close()\n",
    "len(\"There are was a young lady named bright\")\n"
   ]
  },
  {
   "cell_type": "code",
   "execution_count": null,
   "metadata": {},
   "outputs": [],
   "source": [
    "with open(\"new2\",mode=\"wt\",encoding=\"utf-8\") as f_out:\n",
    "    for i in range(1,31):\n",
    "        if i%2==1:\n",
    "            print(i,end='',file=f_out)"
   ]
  },
  {
   "cell_type": "code",
   "execution_count": null,
   "metadata": {},
   "outputs": [],
   "source": [
    "with open(\"new_even.txt\",mode=\"wt\",encoding=\"utf-8\") as f_out:\n",
    "    for i in range(1,31):\n",
    "        if i%2==0:\n",
    "            print(i,end='',file=f_out)"
   ]
  },
  {
   "cell_type": "code",
   "execution_count": null,
   "metadata": {},
   "outputs": [],
   "source": [
    "help(math.)"
   ]
  },
  {
   "cell_type": "code",
   "execution_count": null,
   "metadata": {},
   "outputs": [],
   "source": [
    "with open(\"day2_note.ipynb\",mode=\"rt\",encoding=\"utf-8\") as f_in:\n",
    "    for i in f_in: # line\n",
    "        a=i.split()\n",
    "        print(a)"
   ]
  },
  {
   "cell_type": "code",
   "execution_count": null,
   "metadata": {},
   "outputs": [],
   "source": [
    "with open('text_cp949.txt',mode='w',encoding='cp949') as file:\n",
    "    for i in range(1,10):\n",
    "        file.write(f'{i}번째 라인입니다 \\n')"
   ]
  },
  {
   "cell_type": "code",
   "execution_count": null,
   "metadata": {},
   "outputs": [],
   "source": [
    "with open('text_cp949.txt',mode='a',encoding='utf-8') as file:\n",
    "    for i in range(1,10):\n",
    "        file.write(f'{i}번째 라인입니다 \\n')"
   ]
  },
  {
   "cell_type": "code",
   "execution_count": null,
   "metadata": {},
   "outputs": [],
   "source": [
    "from random import randint\n",
    "def jusawi():\n",
    "    onoff=True\n",
    "    while onoff!=\"q\":\n",
    "        na=randint(1,6)\n",
    "        neo=randint(1,6)\n",
    "        print(\"나 {}\".format(na))\n",
    "        print(\"너 {}\".format(neo))\n",
    "        if na>neo:\n",
    "            print(\"나의 승리 !!\")\n",
    "        elif na<neo:\n",
    "            print(\"너의 승리 !!\")\n",
    "        else :\n",
    "            print('무승부 !')\n",
    "        onoff=input('끝내려면 q를 입력하세요 !')\n",
    "\n",
    "jusawi()\n",
    "    \n",
    "    "
   ]
  },
  {
   "cell_type": "code",
   "execution_count": null,
   "metadata": {},
   "outputs": [],
   "source": [
    "# 이동 게임 (gui)\n",
    "map_gui=[]\n",
    "for i in range(0,10):\n",
    "    map_gui.append([])\n",
    "    for j in range(0,10):\n",
    "        map_gui[i].append(1)\n",
    "\n",
    "while onoff:\n",
    "\"\"\"\n",
    "    for i in map_gui:\n",
    "        for j in i:\n",
    "            print(i,end='')\n",
    "        print(\"\\n\")\n",
    "\"\"\"\n",
    "class position:\n",
    "    def __init__(self,x,y):\n",
    "        self.x=x\n",
    "        self.y=y\n",
    "    \n"
   ]
  },
  {
   "cell_type": "code",
   "execution_count": null,
   "metadata": {},
   "outputs": [],
   "source": [
    "with open('tset.bin','wb') as file:\n",
    "    for i in range(0,256):\n",
    "        data = i.to_bytes(1,'little')\n",
    "        file.write(data)"
   ]
  },
  {
   "cell_type": "code",
   "execution_count": null,
   "metadata": {},
   "outputs": [],
   "source": [
    "with open('tensorflow.jpg','rb') as file:\n",
    "    data = file.read()\n",
    "print(data)\n",
    "\n",
    "with open('tensorflow_cp.jpg','wb') as file:\n",
    "    file.write(data)"
   ]
  },
  {
   "cell_type": "code",
   "execution_count": 16,
   "metadata": {},
   "outputs": [
    {
     "name": "stdin",
     "output_type": "stream",
     "text": [
      "단락을 입력하세요 (: 구별자) 사용필수 sadgds :a adsgsda : asgsda fsda :\n"
     ]
    },
    {
     "name": "stdout",
     "output_type": "stream",
     "text": [
      "5\n",
      "30\n"
     ]
    }
   ],
   "source": [
    "def char_count(arg_str):\n",
    "    return len(arg_str)\n",
    "def char_gyaku(arg_str):\n",
    "    li=[]\n",
    "    str_li=list(arg_str)\n",
    "    for i in range(0,len(str_li)):\n",
    "        li.append(str_li[len(str_li)-i-1])\n",
    "    reverse_str=''.join(li)\n",
    "    return reverse_str\n",
    "def word_count(arg_str):\n",
    "    return len(arg_str.split())\n",
    "def utf_encoder():\n",
    "    a=input(\"단락을 입력하세요 (: 구별자) 사용필수\").split(\":\")\n",
    "    with open(\"reversed.txt\",mode='w',encoding='utf-8') as file:\n",
    "        sumwordcount=0\n",
    "        sumcharcount=0\n",
    "        for i in a:\n",
    "            print(char_gyaku(a),file=file)\n",
    "            sumwordcount += word_count(i)\n",
    "            sumcharcount += char_count(i)\n",
    "        print(sumwordcount)\n",
    "        print(sumcharcount)\n",
    "utf_encoder()\n",
    "        "
   ]
  },
  {
   "cell_type": "code",
   "execution_count": null,
   "metadata": {},
   "outputs": [],
   "source": []
  },
  {
   "cell_type": "code",
   "execution_count": null,
   "metadata": {},
   "outputs": [],
   "source": []
  },
  {
   "cell_type": "code",
   "execution_count": null,
   "metadata": {},
   "outputs": [],
   "source": []
  }
 ],
 "metadata": {
  "kernelspec": {
   "display_name": "Python 3",
   "language": "python",
   "name": "python3"
  },
  "language_info": {
   "codemirror_mode": {
    "name": "ipython",
    "version": 3
   },
   "file_extension": ".py",
   "mimetype": "text/x-python",
   "name": "python",
   "nbconvert_exporter": "python",
   "pygments_lexer": "ipython3",
   "version": "3.6.12"
  }
 },
 "nbformat": 4,
 "nbformat_minor": 4
}
