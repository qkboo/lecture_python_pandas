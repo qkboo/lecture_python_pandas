{
 "cells": [
  {
   "cell_type": "markdown",
   "metadata": {},
   "source": [
    "# 과제\n",
    "\n",
    "1. 컴퓨터 정수/이진수 조사와 학습후 github 에 정리\n",
    "2. 컴퓨터 문제세트, 텍스트 파일 인코딩 조사 및 학습후 github 정리\n",
    "3. 어제 과제인 **최소공배수**에 대한 알고리즘을 학습후 github 정리\n",
    "4. f literal 예제 코드 해보기\n",
    "    - 명세서: https://docs.python.org/ko/3/library/string.html#formatspec\n",
    "    - 샘플: https://bluese05.tistory.com/70\n",
    "5. 교재 책 p341~371 공부하기\n",
    "\n",
    "본인 학습 깃헙 주소를 gangtai.goh@gmail.com 로 알려주시오"
   ]
  }
 ],
 "metadata": {
  "kernelspec": {
   "display_name": "Python 3",
   "language": "python",
   "name": "python3"
  },
  "language_info": {
   "codemirror_mode": {
    "name": "ipython",
    "version": 3
   },
   "file_extension": ".py",
   "mimetype": "text/x-python",
   "name": "python",
   "nbconvert_exporter": "python",
   "pygments_lexer": "ipython3",
   "version": "3.8.5"
  }
 },
 "nbformat": 4,
 "nbformat_minor": 4
}
