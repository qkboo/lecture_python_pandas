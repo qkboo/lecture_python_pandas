{
 "cells": [
  {
   "cell_type": "code",
   "execution_count": 2,
   "metadata": {},
   "outputs": [
    {
     "name": "stdin",
     "output_type": "stream",
     "text": [
      "문자열을 입력하세요 asd qwe\n",
      "문자열을 입력하세요 zxc sdfsa qw\n",
      "문자열을 입력하세요 a\n",
      "문자열을 입력하세요 sk\n",
      "문자열을 입력하세요 oko oko\n",
      "입력을 그만하려면 -1을 눌러주세요:  -1\n"
     ]
    },
    {
     "name": "stdout",
     "output_type": "stream",
     "text": [
      "단어수: 9\n",
      "문자수: 29\n"
     ]
    }
   ],
   "source": [
    "text = []\n",
    "i=0\n",
    "while True:\n",
    "    text.append(input('문자열을 입력하세요'))\n",
    "    i +=1\n",
    "    if i>4:\n",
    "        stop = input('입력을 그만하려면 -1을 눌러주세요: ')\n",
    "        if stop == '-1':\n",
    "            break\n",
    "            \n",
    "file = open('reveresd_txt.txt', 'w', encoding='utf-8')\n",
    "for x in range(i):\n",
    "    rev=''\n",
    "    for alph in text[x]:\n",
    "        rev = alph + rev\n",
    "    file.write(rev + '\\n')\n",
    "file.close()\n",
    "\n",
    "#단어 수 세기\n",
    "words=[]\n",
    "for x in range(i):\n",
    "    words.append(text[x].split())\n",
    "count = 0\n",
    "for x in range(i):\n",
    "    count = count + len(words[x])\n",
    "\n",
    "print('단어수: %d' %count)\n",
    "\n",
    "#문자 수 세기\n",
    "count = 0\n",
    "for x in range(i):\n",
    "    for y in range(len(words[x])):\n",
    "        for word in words[x][y]:\n",
    "            count += 1\n",
    "    \n",
    "print('문자수: %d' %count)"
   ]
  },
  {
   "cell_type": "code",
   "execution_count": null,
   "metadata": {},
   "outputs": [],
   "source": []
  }
 ],
 "metadata": {
  "kernelspec": {
   "display_name": "Python 3",
   "language": "python",
   "name": "python3"
  },
  "language_info": {
   "codemirror_mode": {
    "name": "ipython",
    "version": 3
   },
   "file_extension": ".py",
   "mimetype": "text/x-python",
   "name": "python",
   "nbconvert_exporter": "python",
   "pygments_lexer": "ipython3",
   "version": "3.6.12"
  }
 },
 "nbformat": 4,
 "nbformat_minor": 4
}
