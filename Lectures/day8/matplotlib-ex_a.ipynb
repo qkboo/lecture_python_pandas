{
 "cells": [
  {
   "cell_type": "markdown",
   "metadata": {},
   "source": [
    "문) 카페 매출에 대한 막대 그래프를 그려보자."
   ]
  },
  {
   "cell_type": "code",
   "execution_count": 1,
   "metadata": {},
   "outputs": [],
   "source": [
    "# 파이썬 입문/연습문제 12-1\n",
    "import csv\n",
    "import matplotlib.pyplot as plt\n",
    "from matplotlib import rc\n",
    "\n",
    "f = open('cafe_2year.csv', 'r', encoding='utf-8')\n",
    "lines = csv.reader(f)\n",
    "\n",
    "header = next(lines)\n",
    "\n",
    "xdata = []\n",
    "ydata = []\n",
    "count = 1\n",
    "\n",
    "for line in lines:\n",
    "    if count%3 == 0 :\n",
    "        xdata.append(line[0])\n",
    "        ydata.append(line[1])\n",
    "\n",
    "    count += 1"
   ]
  },
  {
   "cell_type": "code",
   "execution_count": 2,
   "metadata": {},
   "outputs": [
    {
     "data": {
      "image/png": "[encoded data removed]",
      "text/plain": [
       "<Figure size 432x288 with 1 Axes>"
      ]
     },
     "metadata": {
      "needs_background": "light"
     },
     "output_type": "display_data"
    }
   ],
   "source": [
    "# 막대 그래프를 그리시오.\n",
    "# 교재 p390 참조\n",
    "\n",
    "import matplotlib.pyplot as plt\n",
    "from matplotlib import rc\n",
    "\n",
    "rc('font', family='Malgun Gothic')\n",
    "font1 = {'size':18, 'color':'green'}\n",
    "\n",
    "plt.bar(xdata, ydata)\n",
    "\n",
    "plt.title('전국의 월별 까페수', fontdict=font1)\n",
    "plt.xlabel('년월')\n",
    "plt.ylabel('카페수')\n",
    "\n",
    "plt.show()"
   ]
  },
  {
   "cell_type": "markdown",
   "metadata": {},
   "source": [
    "문) 종합병원 의사수 데이터를 이용해 꺽은선 그래프를 그려보자."
   ]
  },
  {
   "cell_type": "code",
   "execution_count": 3,
   "metadata": {},
   "outputs": [],
   "source": [
    "# 파이썬 입문/연습문제 12-4\n",
    "import csv\n",
    "import matplotlib.pyplot as plt\n",
    "from matplotlib import rc\n",
    "\n",
    "f = open('doctor2.csv', 'r', encoding='utf-8')\n",
    "lines = csv.reader(f)\n",
    "\n",
    "header = next(lines)\n",
    "\n",
    "xdata = []\n",
    "ydata = []\n",
    "\n",
    "for line in lines:\n",
    "    xdata.append(line[0])\n",
    "    ydata.append(int(line[4]))"
   ]
  },
  {
   "cell_type": "code",
   "execution_count": 3,
   "metadata": {},
   "outputs": [
    {
     "data": {
      "text/plain": [
       "['지역', '일반의 수', '인턴 수', '레지던트 수', '전문의 수']"
      ]
     },
     "execution_count": 3,
     "metadata": {},
     "output_type": "execute_result"
    }
   ],
   "source": [
    "header"
   ]
  },
  {
   "cell_type": "code",
   "execution_count": 4,
   "metadata": {},
   "outputs": [
    {
     "data": {
      "text/plain": [
       "([9375, 2211, 1436, 1518, 1006, 1006, 467],\n",
       " ['서울', '부산', '대구', '인천', '대전', '광주', '울산'])"
      ]
     },
     "execution_count": 4,
     "metadata": {},
     "output_type": "execute_result"
    }
   ],
   "source": [
    "ydata, xdata"
   ]
  },
  {
   "cell_type": "code",
   "execution_count": 4,
   "metadata": {},
   "outputs": [
    {
     "data": {
      "image/png": "[encoded data removed]",
      "text/plain": [
       "<Figure size 432x288 with 1 Axes>"
      ]
     },
     "metadata": {
      "needs_background": "light"
     },
     "output_type": "display_data"
    }
   ],
   "source": [
    "# 산포도 그래프를 그려보자.\n",
    "# 교재 p392 참조\n",
    "\n",
    "rc('font', family='Malgun Gothic')\n",
    "font1 = {'size':18, 'color':'green'}\n",
    "\n",
    "plt.scatter(xdata, ydata)\n",
    "\n",
    "plt.title('서울 및 광역시 종합병원 전문의 수', fontdict=font1)\n",
    "plt.xlabel('시')\n",
    "plt.ylabel('의사 수')\n",
    "\n",
    "plt.show()"
   ]
  },
  {
   "cell_type": "markdown",
   "metadata": {},
   "source": [
    "문) 앞의 doctor2.csv 파일을 사용해서 일반의, 인턴, 레지던트, 전문의 의사수를 꺽은선 그래프로 그려보자."
   ]
  },
  {
   "cell_type": "code",
   "execution_count": 5,
   "metadata": {},
   "outputs": [],
   "source": [
    "# 파이썬입문/연습문제 12-5\n",
    "import csv\n",
    "\n",
    "f = open('doctor2.csv', 'r', encoding='utf-8')\n",
    "lines = csv.reader(f)\n",
    "\n",
    "header = next(lines)\n",
    "\n",
    "xdata = []\n",
    "ydata1 = [] #일반의\n",
    "ydata2 = [] #인턴 수\n",
    "ydata3 = []\n",
    "ydata4 = []\n",
    "\n",
    "for line in lines:\n",
    "    xdata.append(line[0])\n",
    "    ydata1.append(int(line[1]))\n",
    "    ydata2.append(int(line[2]))\n",
    "    ydata3.append(int(line[3]))\n",
    "    ydata4.append(int(line[4]))\n"
   ]
  },
  {
   "cell_type": "code",
   "execution_count": 7,
   "metadata": {},
   "outputs": [
    {
     "data": {
      "text/plain": [
       "['지역', '일반의 수', '인턴 수', '레지던트 수', '전문의 수']"
      ]
     },
     "execution_count": 7,
     "metadata": {},
     "output_type": "execute_result"
    }
   ],
   "source": [
    "header"
   ]
  },
  {
   "cell_type": "code",
   "execution_count": 6,
   "metadata": {},
   "outputs": [
    {
     "data": {
      "text/plain": [
       "(['서울', '부산', '대구', '인천', '대전', '광주', '울산'],\n",
       " [162, 58, 27, 47, 25, 16, 19],\n",
       " [1196, 197, 215, 138, 142, 102, 23])"
      ]
     },
     "execution_count": 6,
     "metadata": {},
     "output_type": "execute_result"
    }
   ],
   "source": [
    "xdata, ydata1, ydata2"
   ]
  },
  {
   "cell_type": "code",
   "execution_count": 8,
   "metadata": {},
   "outputs": [
    {
     "data": {
      "image/png": "[encoded data removed]",
      "text/plain": [
       "<Figure size 432x288 with 1 Axes>"
      ]
     },
     "metadata": {
      "needs_background": "light"
     },
     "output_type": "display_data"
    }
   ],
   "source": [
    "# 일반의, 인턴, 레지던트, 전문의 의사수를 꺽은선 그래프로 그려보자.\n",
    "# 교재 p385 참조\n",
    "\n",
    "import matplotlib.pyplot as plt\n",
    "from matplotlib import rc\n",
    "\n",
    "\n",
    "\n",
    "\n",
    "rc('font', family='Malgun Gothic')\n",
    "\n",
    "font1 = {'size':18, 'color':'green'}\n",
    "\n",
    "plt.plot(xdata, ydata1, label='일반의', color='red', linestyle='-', marker='o')\n",
    "plt.plot(xdata, ydata2, label='인턴', color='blue', linestyle='--', marker='x')\n",
    "plt.plot(xdata, ydata3, label='레지던트', color='yellow', linestyle=':', marker='s')\n",
    "plt.plot(xdata, ydata4, label='전문의', color='purple', linestyle='-.', marker='d')\n",
    "\n",
    "plt.title('서울 및 광역시 종합병원 의사 수', fontdict=font1)\n",
    "plt.legend(loc='best')\n",
    "plt.xlabel('시')\n",
    "plt.ylabel('의사 수')\n",
    "\n",
    "plt.show()\n"
   ]
  },
  {
   "cell_type": "markdown",
   "metadata": {},
   "source": [
    "문) doctor2.csv 파일을 사용해서 의사수 분포를 파이 그래프로 그려보자."
   ]
  },
  {
   "cell_type": "code",
   "execution_count": 9,
   "metadata": {},
   "outputs": [],
   "source": [
    "# 연습문제 12-6\n",
    "import csv\n",
    "\n",
    "f = open('doctor2.csv', 'r', encoding='utf-8')\n",
    "lines = csv.reader(f)\n",
    "\n",
    "header = next(lines)\n",
    "\n",
    "kind = ['일반의', '인턴', '레지던트', '전문의']\n",
    "\n",
    "numbers = []\n",
    "seoul = next(lines)\n",
    "\n",
    "total = 0\n",
    "for i in range(4) :\n",
    "    total += int(seoul[i+1])\n",
    "    \n",
    "for i in range(4) :\n",
    "    persent = int(seoul[i+1])/total;\n",
    "    numbers.append(persent)"
   ]
  },
  {
   "cell_type": "code",
   "execution_count": 10,
   "metadata": {},
   "outputs": [
    {
     "data": {
      "image/png": "[encoded data removed]",
      "text/plain": [
       "<Figure size 432x288 with 1 Axes>"
      ]
     },
     "metadata": {},
     "output_type": "display_data"
    }
   ],
   "source": [
    "# 의사수 분포를 파이 그래프로 그려보자.\n",
    "# 교재 p393 참조\n",
    "\n",
    "import matplotlib.pyplot as plt\n",
    "from matplotlib import rc\n",
    "\n",
    "\n",
    "\n",
    "plt.pie(numbers, explode=(0, 0.1, 0, 0), labels=kind, autopct='%.1f%%', shadow=True, startangle=90)\n",
    "plt.title('서울 종합병원 의사 유형별 분포', fontdict=font1)\n",
    "plt.show()\n",
    "\n",
    "\n",
    "\n",
    "\n",
    "\n",
    "\n",
    "\n",
    "\n"
   ]
  },
  {
   "cell_type": "code",
   "execution_count": null,
   "metadata": {},
   "outputs": [],
   "source": []
  }
 ],
 "metadata": {
  "kernelspec": {
   "display_name": "Python 3",
   "language": "python",
   "name": "python3"
  },
  "language_info": {
   "codemirror_mode": {
    "name": "ipython",
    "version": 3
   },
   "file_extension": ".py",
   "mimetype": "text/x-python",
   "name": "python",
   "nbconvert_exporter": "python",
   "pygments_lexer": "ipython3",
   "version": "3.6.12"
  }
 },
 "nbformat": 4,
 "nbformat_minor": 4
}
